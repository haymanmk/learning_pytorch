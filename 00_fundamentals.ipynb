{
 "cells": [
  {
   "cell_type": "markdown",
   "metadata": {},
   "source": [
    "## Import Pytorch\n",
    "Check if Pytorch is available in the environment."
   ]
  },
  {
   "cell_type": "code",
   "execution_count": 2,
   "metadata": {},
   "outputs": [
    {
     "name": "stdout",
     "output_type": "stream",
     "text": [
      "tensor([[0.4711, 0.3604, 0.2435],\n",
      "        [0.4614, 0.0369, 0.2723],\n",
      "        [0.0822, 0.3772, 0.7041],\n",
      "        [0.5231, 0.5230, 0.2519],\n",
      "        [0.3698, 0.7889, 0.9675]])\n"
     ]
    }
   ],
   "source": [
    "import torch\n",
    "x = torch.rand(5, 3)\n",
    "print(x)"
   ]
  },
  {
   "cell_type": "code",
   "execution_count": 3,
   "metadata": {},
   "outputs": [
    {
     "data": {
      "text/plain": [
       "'2.5.1+cu124'"
      ]
     },
     "execution_count": 3,
     "metadata": {},
     "output_type": "execute_result"
    }
   ],
   "source": [
    "torch.__version__"
   ]
  },
  {
   "cell_type": "markdown",
   "metadata": {},
   "source": [
    "## Tensor\n",
    "Tensors are the fundamental building block of machine learning.\n",
    "Their job is to represent data in a numerical way.\n",
    "\n",
    "### Key learning points\n",
    "- [Data types](https://pytorch.org/docs/stable/tensors.html#data-types)\n",
    "- Initialize tensor of different shapes\n",
    "- Manipulate tensor"
   ]
  },
  {
   "cell_type": "markdown",
   "metadata": {},
   "source": [
    "#### Different Shapes of Tensor\n",
    "\n",
    "| Name   | What is it?                                                                 | Number of dimensions                                                                 | Lower or upper (usually/example)                                                                 |\n",
    "|--------|-----------------------------------------------------------------------------|--------------------------------------------------------------------------------------|---------------------------------------------------------------------------------------------------|\n",
    "| scalar | a single number                                                             | 0                                                                                    | Lower (a)                                                                                        |\n",
    "| vector | a number with direction (e.g. wind speed with direction) but can also have many other numbers | 1                                                                                    | Lower (y)                                                                                        |\n",
    "| matrix | a 2-dimensional array of numbers                                            | 2                                                                                    | Upper (Q)                                                                                        |\n",
    "| tensor | an n-dimensional array of numbers                                           | can be any number, a 0-dimension tensor is a scalar, a 1-dimension tensor is a vector | Upper (X)                                                                                        |"
   ]
  },
  {
   "cell_type": "code",
   "execution_count": 4,
   "metadata": {},
   "outputs": [
    {
     "name": "stdout",
     "output_type": "stream",
     "text": [
      "scalar: tensor(1.)\n",
      "vector:  tensor([1., 2., 3., 4.])\n",
      "matrix: tensor([[1., 2.],\n",
      "        [3., 4.]])\n",
      "tensor: tensor([[[1., 2.],\n",
      "         [3., 4.]],\n",
      "\n",
      "        [[5., 6.],\n",
      "         [7., 8.]]])\n",
      "random tensor: tensor([[0.1991, 0.2636, 0.8017, 0.4585],\n",
      "        [0.9059, 0.5920, 0.5884, 0.8756],\n",
      "        [0.4290, 0.8352, 0.5935, 0.8880]])\n",
      "all zeros tensor: tensor([[0., 0., 0., 0.],\n",
      "        [0., 0., 0., 0.],\n",
      "        [0., 0., 0., 0.]])\n",
      "all ones tensor: tensor([[1., 1., 1., 1.],\n",
      "        [1., 1., 1., 1.],\n",
      "        [1., 1., 1., 1.]])\n",
      "zero to ten: tensor([0, 2, 4, 6, 8])\n",
      "zeros tensor: tensor([0, 0, 0, 0, 0])\n"
     ]
    }
   ],
   "source": [
    "# Create a tensor\n",
    "# scalar\n",
    "a = torch.tensor(1.0)\n",
    "\n",
    "# vector\n",
    "y = torch.tensor([1.0, 2.0, 3.0, 4.0])\n",
    "\n",
    "# matrix\n",
    "Q = torch.tensor([[1.0, 2.0], [3.0, 4.0]])\n",
    "\n",
    "# N-dimensional tensor\n",
    "X = torch.tensor([[[1.0, 2.0], [3.0, 4.0]], [[5.0, 6.0], [7.0, 8.0]]])\n",
    "\n",
    "# random tensor\n",
    "R = torch.rand(size=(3, 4))\n",
    "\n",
    "# all zeros tensor\n",
    "Z = torch.zeros(size=(3, 4))\n",
    "\n",
    "# all ones tensor\n",
    "O = torch.ones(size=(3, 4))\n",
    "\n",
    "# use arange to create a tensor\n",
    "zero_to_ten = torch.arange(start=0, end=10, step=2)\n",
    "\n",
    "# use zeros_like to create a tensor\n",
    "zeros_tensor = torch.zeros_like(zero_to_ten)\n",
    "\n",
    "# print the tensor\n",
    "print(\"scalar:\", a)\n",
    "print(\"vector: \", y)\n",
    "print(\"matrix:\", Q)\n",
    "print(\"tensor:\", X)\n",
    "print(\"random tensor:\", R)\n",
    "print(\"all zeros tensor:\", Z)\n",
    "print(\"all ones tensor:\", O)\n",
    "print(\"zero to ten:\", zero_to_ten)\n",
    "print(\"zeros tensor:\", zeros_tensor)"
   ]
  },
  {
   "cell_type": "markdown",
   "metadata": {},
   "source": [
    "#### Get the Structure of Tensor\n",
    "- `.ndim`\n",
    "- `.item`\n",
    "- `.shape`"
   ]
  },
  {
   "cell_type": "code",
   "execution_count": 5,
   "metadata": {},
   "outputs": [
    {
     "name": "stdout",
     "output_type": "stream",
     "text": [
      "scalar: 0\n",
      "vector: 1\n",
      "matrix: 2\n",
      "tensor: 3\n"
     ]
    }
   ],
   "source": [
    "# dimensions of the tensor\n",
    "print(\"scalar:\", a.ndim)\n",
    "print(\"vector:\", y.ndim)\n",
    "print(\"matrix:\", Q.ndim)\n",
    "print(\"tensor:\", X.ndim)"
   ]
  },
  {
   "cell_type": "markdown",
   "metadata": {},
   "source": [
    "#### Data Types\n",
    "Here we specify data type when creating a tensor."
   ]
  },
  {
   "cell_type": "code",
   "execution_count": 6,
   "metadata": {},
   "outputs": [
    {
     "name": "stdout",
     "output_type": "stream",
     "text": [
      "Data type:  torch.float32\n"
     ]
    }
   ],
   "source": [
    "# Create a tensor without specifying the data type\n",
    "dtype_tensor = torch.tensor([1.0, 2.0, 3.0, 4.0],\n",
    "                            dtype=None,\n",
    "                            device=None,\n",
    "                            requires_grad=False)\n",
    "print(\"Data type: \", dtype_tensor.dtype)"
   ]
  },
  {
   "cell_type": "code",
   "execution_count": 7,
   "metadata": {},
   "outputs": [
    {
     "name": "stdout",
     "output_type": "stream",
     "text": [
      "3.141592653589793 2.718281828459045\n",
      "diff for pi:  -8.742278012618954e-08\n"
     ]
    },
    {
     "data": {
      "text/plain": [
       "(3.1415927410125732, 4, torch.float32, device(type='cpu'))"
      ]
     },
     "execution_count": 7,
     "metadata": {},
     "output_type": "execute_result"
    }
   ],
   "source": [
    "import math\n",
    "\n",
    "print(math.pi, math.e)\n",
    "\n",
    "# Create a tensor with a specific data type of 32-bit floating point\n",
    "float32_tensor = torch.tensor([math.pi, math.e],\n",
    "                              dtype=torch.float32,\n",
    "                              device=None,\n",
    "                              requires_grad=False)\n",
    "\n",
    "# print the difference between math.pi and its representation in the tensor\n",
    "print(\"diff for pi: \", math.pi - float32_tensor[0].item())\n",
    "\n",
    "float32_tensor[0].item(), float32_tensor.element_size(), float32_tensor.dtype, float32_tensor.device"
   ]
  },
  {
   "cell_type": "code",
   "execution_count": 8,
   "metadata": {},
   "outputs": [
    {
     "name": "stdout",
     "output_type": "stream",
     "text": [
      "3.141592653589793 2.718281828459045\n",
      "diff for pi:  0.0\n"
     ]
    },
    {
     "data": {
      "text/plain": [
       "(3.141592653589793, 8, torch.float64, device(type='cpu'))"
      ]
     },
     "execution_count": 8,
     "metadata": {},
     "output_type": "execute_result"
    }
   ],
   "source": [
    "import math\n",
    "\n",
    "print(math.pi, math.e)\n",
    "\n",
    "# Create a tensor with a specific data type of 64-bit floating point\n",
    "float64_tensor = torch.tensor([math.pi, math.e],\n",
    "                              dtype=torch.float64,\n",
    "                              device=None,\n",
    "                              requires_grad=False)\n",
    "\n",
    "# print the difference between math.pi and its representation in the tensor\n",
    "print(\"diff for pi: \", math.pi - float64_tensor[0].item())\n",
    "\n",
    "float64_tensor[0].item(), float64_tensor.element_size(), float64_tensor.dtype, float64_tensor.device"
   ]
  },
  {
   "cell_type": "markdown",
   "metadata": {},
   "source": [
    "## Manipulate Tensors\n",
    "- addition\n",
    "- subtraction\n",
    "- multiplication (element-wise)\n",
    "- division\n",
    "- matrix multiplication"
   ]
  },
  {
   "cell_type": "code",
   "execution_count": 21,
   "metadata": {},
   "outputs": [
    {
     "name": "stdout",
     "output_type": "stream",
     "text": [
      "tensor + tensor =  tensor([2., 4., 6., 8.])\n",
      "tensor + 10 =  tensor([11., 12., 13., 14.])\n",
      "tensor - tensor =  tensor([0., 0., 0., 0.])\n",
      "tensor - 10 =  tensor([-9., -8., -7., -6.])\n",
      "tensor * tensor =  tensor([ 1.,  4.,  9., 16.])\n",
      "tensor * 10 =  tensor([10., 20., 30., 40.])\n",
      "torch.mul(tensor, 10) =  tensor([10., 20., 30., 40.])\n",
      "tensor / tensor =  tensor([1., 1., 1., 1.])\n",
      "tensor / 10 =  tensor([0.1000, 0.2000, 0.3000, 0.4000])\n",
      "torch.matmul(tensor, tensor) =  tensor(30.)\n"
     ]
    }
   ],
   "source": [
    "## addition\n",
    "tensor = torch.tensor([1.0, 2.0, 3.0, 4.0])\n",
    "print(\"tensor + tensor = \", tensor + tensor)\n",
    "print(\"tensor + 10 = \", tensor + 10)\n",
    "\n",
    "## subtraction\n",
    "print(\"tensor - tensor = \", tensor - tensor)\n",
    "print(\"tensor - 10 = \", tensor - 10)\n",
    "\n",
    "## multiplication (element-wise)\n",
    "print(\"tensor * tensor = \", tensor * tensor)\n",
    "print(\"tensor * 10 = \", tensor * 10)\n",
    "print(\"torch.mul(tensor, 10) = \", torch.mul(tensor, 10))\n",
    "\n",
    "## division\n",
    "print(\"tensor / tensor = \", tensor / tensor)\n",
    "print(\"tensor / 10 = \", tensor / 10)\n",
    "\n",
    "## dot product\n",
    "print(\"torch.matmul(tensor, tensor) = \", torch.matmul(tensor, tensor))"
   ]
  }
 ],
 "metadata": {
  "kernelspec": {
   "display_name": ".venv",
   "language": "python",
   "name": "python3"
  },
  "language_info": {
   "codemirror_mode": {
    "name": "ipython",
    "version": 3
   },
   "file_extension": ".py",
   "mimetype": "text/x-python",
   "name": "python",
   "nbconvert_exporter": "python",
   "pygments_lexer": "ipython3",
   "version": "3.12.3"
  }
 },
 "nbformat": 4,
 "nbformat_minor": 2
}
