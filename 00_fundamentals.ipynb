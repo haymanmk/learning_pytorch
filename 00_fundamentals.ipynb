{
 "cells": [
  {
   "cell_type": "markdown",
   "metadata": {},
   "source": [
    "## Import Pytorch\n",
    "Check if Pytorch is available in the environment."
   ]
  },
  {
   "cell_type": "code",
   "execution_count": 1,
   "metadata": {},
   "outputs": [
    {
     "name": "stdout",
     "output_type": "stream",
     "text": [
      "tensor([[0.1491, 0.6564, 0.1395],\n",
      "        [0.9654, 0.5536, 0.9790],\n",
      "        [0.5554, 0.3806, 0.3780],\n",
      "        [0.7797, 0.6439, 0.9923],\n",
      "        [0.6004, 0.6136, 0.2194]])\n"
     ]
    }
   ],
   "source": [
    "import torch\n",
    "x = torch.rand(5, 3)\n",
    "print(x)"
   ]
  },
  {
   "cell_type": "code",
   "execution_count": 3,
   "metadata": {},
   "outputs": [
    {
     "data": {
      "text/plain": [
       "'2.5.1+cu124'"
      ]
     },
     "execution_count": 3,
     "metadata": {},
     "output_type": "execute_result"
    }
   ],
   "source": [
    "torch.__version__"
   ]
  },
  {
   "cell_type": "markdown",
   "metadata": {},
   "source": [
    "## Tensor\n",
    "Tensors are the fundamental building block of machine learning.\n",
    "Their job is to represent data in a numerical way.\n",
    "\n",
    "### Key learning points\n",
    "- [Data types](https://pytorch.org/docs/stable/tensors.html#data-types)\n",
    "- Initialize tensor of different shapes\n",
    "- Manipulate tensor"
   ]
  },
  {
   "cell_type": "markdown",
   "metadata": {},
   "source": [
    "#### Different Shapes of Tensor\n",
    "\n",
    "| Name   | What is it?                                                                 | Number of dimensions                                                                 | Lower or upper (usually/example)                                                                 |\n",
    "|--------|-----------------------------------------------------------------------------|--------------------------------------------------------------------------------------|---------------------------------------------------------------------------------------------------|\n",
    "| scalar | a single number                                                             | 0                                                                                    | Lower (a)                                                                                        |\n",
    "| vector | a number with direction (e.g. wind speed with direction) but can also have many other numbers | 1                                                                                    | Lower (y)                                                                                        |\n",
    "| matrix | a 2-dimensional array of numbers                                            | 2                                                                                    | Upper (Q)                                                                                        |\n",
    "| tensor | an n-dimensional array of numbers                                           | can be any number, a 0-dimension tensor is a scalar, a 1-dimension tensor is a vector | Upper (X)                                                                                        |"
   ]
  },
  {
   "cell_type": "code",
   "execution_count": 4,
   "metadata": {},
   "outputs": [
    {
     "name": "stdout",
     "output_type": "stream",
     "text": [
      "scalar: tensor(1.)\n",
      "vector:  tensor([1., 2., 3., 4.])\n",
      "matrix: tensor([[1., 2.],\n",
      "        [3., 4.]])\n",
      "tensor: tensor([[[1., 2.],\n",
      "         [3., 4.]],\n",
      "\n",
      "        [[5., 6.],\n",
      "         [7., 8.]]])\n",
      "random tensor: tensor([[0.8365, 0.4091, 0.5110, 0.6634],\n",
      "        [0.2815, 0.1100, 0.4280, 0.1230],\n",
      "        [0.8911, 0.0910, 0.4915, 0.1522]])\n",
      "all zeros tensor: tensor([[0., 0., 0., 0.],\n",
      "        [0., 0., 0., 0.],\n",
      "        [0., 0., 0., 0.]])\n",
      "all ones tensor: tensor([[1., 1., 1., 1.],\n",
      "        [1., 1., 1., 1.],\n",
      "        [1., 1., 1., 1.]])\n",
      "zero to ten: tensor([0, 2, 4, 6, 8])\n",
      "zeros tensor: tensor([0, 0, 0, 0, 0])\n"
     ]
    }
   ],
   "source": [
    "# Create a tensor\n",
    "# scalar\n",
    "a = torch.tensor(1.0)\n",
    "\n",
    "# vector\n",
    "y = torch.tensor([1.0, 2.0, 3.0, 4.0])\n",
    "\n",
    "# matrix\n",
    "Q = torch.tensor([[1.0, 2.0], [3.0, 4.0]])\n",
    "\n",
    "# N-dimensional tensor\n",
    "X = torch.tensor([[[1.0, 2.0], [3.0, 4.0]], [[5.0, 6.0], [7.0, 8.0]]])\n",
    "\n",
    "# random tensor\n",
    "R = torch.rand(size=(3, 4))\n",
    "\n",
    "# all zeros tensor\n",
    "Z = torch.zeros(size=(3, 4))\n",
    "\n",
    "# all ones tensor\n",
    "O = torch.ones(size=(3, 4))\n",
    "\n",
    "# use arange to create a tensor\n",
    "zero_to_ten = torch.arange(start=0, end=10, step=2)\n",
    "\n",
    "# use zeros_like to create a tensor\n",
    "zeros_tensor = torch.zeros_like(zero_to_ten)\n",
    "\n",
    "# print the tensor\n",
    "print(\"scalar:\", a)\n",
    "print(\"vector: \", y)\n",
    "print(\"matrix:\", Q)\n",
    "print(\"tensor:\", X)\n",
    "print(\"random tensor:\", R)\n",
    "print(\"all zeros tensor:\", Z)\n",
    "print(\"all ones tensor:\", O)\n",
    "print(\"zero to ten:\", zero_to_ten)\n",
    "print(\"zeros tensor:\", zeros_tensor)"
   ]
  },
  {
   "cell_type": "markdown",
   "metadata": {},
   "source": [
    "#### Get the Structure of Tensor\n",
    "- `.ndim`\n",
    "- `.item`\n",
    "- `.shape`"
   ]
  },
  {
   "cell_type": "code",
   "execution_count": 5,
   "metadata": {},
   "outputs": [
    {
     "name": "stdout",
     "output_type": "stream",
     "text": [
      "scalar: 0\n",
      "vector: 1\n",
      "matrix: 2\n",
      "tensor: 3\n"
     ]
    }
   ],
   "source": [
    "# dimensions of the tensor\n",
    "print(\"scalar:\", a.ndim)\n",
    "print(\"vector:\", y.ndim)\n",
    "print(\"matrix:\", Q.ndim)\n",
    "print(\"tensor:\", X.ndim)"
   ]
  },
  {
   "cell_type": "markdown",
   "metadata": {},
   "source": [
    "#### Data Types\n",
    "Here we specify data type when creating a tensor."
   ]
  },
  {
   "cell_type": "code",
   "execution_count": 6,
   "metadata": {},
   "outputs": [
    {
     "name": "stdout",
     "output_type": "stream",
     "text": [
      "Data type:  torch.float32\n"
     ]
    }
   ],
   "source": [
    "# Create a tensor without specifying the data type\n",
    "dtype_tensor = torch.tensor([1.0, 2.0, 3.0, 4.0],\n",
    "                            dtype=None,\n",
    "                            device=None,\n",
    "                            requires_grad=False)\n",
    "print(\"Data type: \", dtype_tensor.dtype)"
   ]
  },
  {
   "cell_type": "code",
   "execution_count": 7,
   "metadata": {},
   "outputs": [
    {
     "name": "stdout",
     "output_type": "stream",
     "text": [
      "3.141592653589793 2.718281828459045\n",
      "diff for pi:  -8.742278012618954e-08\n"
     ]
    },
    {
     "data": {
      "text/plain": [
       "(3.1415927410125732, 4, torch.float32, device(type='cpu'))"
      ]
     },
     "execution_count": 7,
     "metadata": {},
     "output_type": "execute_result"
    }
   ],
   "source": [
    "import math\n",
    "\n",
    "print(math.pi, math.e)\n",
    "\n",
    "# Create a tensor with a specific data type of 32-bit floating point\n",
    "float32_tensor = torch.tensor([math.pi, math.e],\n",
    "                              dtype=torch.float32,\n",
    "                              device=None,\n",
    "                              requires_grad=False)\n",
    "\n",
    "# print the difference between math.pi and its representation in the tensor\n",
    "print(\"diff for pi: \", math.pi - float32_tensor[0].item())\n",
    "\n",
    "float32_tensor[0].item(), float32_tensor.element_size(), float32_tensor.dtype, float32_tensor.device"
   ]
  },
  {
   "cell_type": "code",
   "execution_count": 8,
   "metadata": {},
   "outputs": [
    {
     "name": "stdout",
     "output_type": "stream",
     "text": [
      "3.141592653589793 2.718281828459045\n",
      "diff for pi:  0.0\n"
     ]
    },
    {
     "data": {
      "text/plain": [
       "(3.141592653589793, 8, torch.float64, device(type='cpu'))"
      ]
     },
     "execution_count": 8,
     "metadata": {},
     "output_type": "execute_result"
    }
   ],
   "source": [
    "import math\n",
    "\n",
    "print(math.pi, math.e)\n",
    "\n",
    "# Create a tensor with a specific data type of 64-bit floating point\n",
    "float64_tensor = torch.tensor([math.pi, math.e],\n",
    "                              dtype=torch.float64,\n",
    "                              device=None,\n",
    "                              requires_grad=False)\n",
    "\n",
    "# print the difference between math.pi and its representation in the tensor\n",
    "print(\"diff for pi: \", math.pi - float64_tensor[0].item())\n",
    "\n",
    "float64_tensor[0].item(), float64_tensor.element_size(), float64_tensor.dtype, float64_tensor.device"
   ]
  },
  {
   "cell_type": "markdown",
   "metadata": {},
   "source": [
    "## Manipulate Tensors\n",
    "- addition\n",
    "- subtraction\n",
    "- multiplication (element-wise)\n",
    "- division\n",
    "- matrix multiplication"
   ]
  },
  {
   "cell_type": "code",
   "execution_count": 9,
   "metadata": {},
   "outputs": [
    {
     "name": "stdout",
     "output_type": "stream",
     "text": [
      "tensor + tensor =  tensor([2., 4., 6., 8.])\n",
      "tensor + 10 =  tensor([11., 12., 13., 14.])\n",
      "tensor - tensor =  tensor([0., 0., 0., 0.])\n",
      "tensor - 10 =  tensor([-9., -8., -7., -6.])\n",
      "tensor * tensor =  tensor([ 1.,  4.,  9., 16.])\n",
      "tensor * 10 =  tensor([10., 20., 30., 40.])\n",
      "torch.mul(tensor, 10) =  tensor([10., 20., 30., 40.])\n",
      "tensor / tensor =  tensor([1., 1., 1., 1.])\n",
      "tensor / 10 =  tensor([0.1000, 0.2000, 0.3000, 0.4000])\n",
      "torch.matmul(tensor, tensor) =  tensor(30.)\n"
     ]
    }
   ],
   "source": [
    "## addition\n",
    "tensor = torch.tensor([1.0, 2.0, 3.0, 4.0])\n",
    "print(\"tensor + tensor = \", tensor + tensor)\n",
    "print(\"tensor + 10 = \", tensor + 10)\n",
    "\n",
    "## subtraction\n",
    "print(\"tensor - tensor = \", tensor - tensor)\n",
    "print(\"tensor - 10 = \", tensor - 10)\n",
    "\n",
    "## multiplication (element-wise)\n",
    "print(\"tensor * tensor = \", tensor * tensor)\n",
    "print(\"tensor * 10 = \", tensor * 10)\n",
    "print(\"torch.mul(tensor, 10) = \", torch.mul(tensor, 10))\n",
    "\n",
    "## division\n",
    "print(\"tensor / tensor = \", tensor / tensor)\n",
    "print(\"tensor / 10 = \", tensor / 10)\n",
    "\n",
    "## dot product\n",
    "print(\"torch.matmul(tensor, tensor) = \", torch.matmul(tensor, tensor))"
   ]
  },
  {
   "cell_type": "code",
   "execution_count": 10,
   "metadata": {},
   "outputs": [
    {
     "name": "stdout",
     "output_type": "stream",
     "text": [
      "torch.matmul tensor(30.)\n",
      "tensor @ tensor =  tensor(30.)\n",
      "CPU times: user 1.32 ms, sys: 19 μs, total: 1.34 ms\n",
      "Wall time: 915 μs\n"
     ]
    }
   ],
   "source": [
    "%%time\n",
    "print(\"torch.matmul\", torch.matmul(tensor, tensor))\n",
    "\n",
    "print(\"tensor @ tensor = \", tensor @ tensor)"
   ]
  },
  {
   "cell_type": "code",
   "execution_count": 11,
   "metadata": {},
   "outputs": [
    {
     "name": "stdout",
     "output_type": "stream",
     "text": [
      "(2,3) @ (3,2) =  tensor([[0.7828, 0.7684, 1.1607, 0.8876],\n",
      "        [0.5300, 0.5351, 0.7048, 0.7582]])\n",
      "shape:  torch.Size([2, 4])\n"
     ]
    }
   ],
   "source": [
    "# the inner dimensions of the two matrices must be the same\n",
    "# the resulting matrix will have the shape of the outer dimensions\n",
    "# i.e. (2, 3) @ (3, 2) = (2, 2)\n",
    "tensor_mat = torch.rand(2, 3) @ torch.rand(3, 4)\n",
    "print(\"(2,3) @ (3,2) = \", tensor_mat)\n",
    "print(\"shape: \", tensor_mat.shape)"
   ]
  },
  {
   "cell_type": "code",
   "execution_count": 12,
   "metadata": {},
   "outputs": [
    {
     "name": "stdout",
     "output_type": "stream",
     "text": [
      "tensorA:  tensor([[1, 2],\n",
      "        [3, 4],\n",
      "        [5, 6]]) shape:  torch.Size([3, 2])\n",
      "tensorA.T:  tensor([[1, 3, 5],\n",
      "        [2, 4, 6]]) shape:  torch.Size([2, 3])\n",
      "tensorA.t():  tensor([[1, 3, 5],\n",
      "        [2, 4, 6]]) shape:  torch.Size([2, 3])\n"
     ]
    }
   ],
   "source": [
    "# transpose\n",
    "tensorA = torch.tensor([[1, 2], [3, 4], [5, 6]])\n",
    "print(\"tensorA: \", tensorA, \"shape: \", tensorA.shape)\n",
    "print(\"tensorA.T: \", tensorA.T, \"shape: \", tensorA.T.shape)\n",
    "print(\"tensorA.t(): \", tensorA.t(), \"shape: \", tensorA.t().shape)"
   ]
  },
  {
   "cell_type": "code",
   "execution_count": 15,
   "metadata": {},
   "outputs": [
    {
     "name": "stdout",
     "output_type": "stream",
     "text": [
      "max:  tensor(4.)\n",
      "min:  tensor(1.)\n",
      "mean:  tensor(2.5000)\n"
     ]
    }
   ],
   "source": [
    "# find the max, min, mean, and sum of the tensor\n",
    "print(\"max: \", tensor.max())\n",
    "print(\"min: \", tensor.min())\n",
    "print(\"mean: \", tensor.mean())"
   ]
  },
  {
   "cell_type": "code",
   "execution_count": 3,
   "metadata": {},
   "outputs": [
    {
     "data": {
      "text/plain": [
       "tensor(2.5000, dtype=torch.float64)"
      ]
     },
     "execution_count": 3,
     "metadata": {},
     "output_type": "execute_result"
    }
   ],
   "source": [
    "# the following code will end up with a RuntimeError\n",
    "# RuntimeError: mean(): could not infer output dtype. Input dtype must be either a floating point or complex dtype. Got: Long\n",
    "tensor_int64 = torch.tensor([1, 2, 3, 4], dtype=torch.int64)\n",
    "# print(\"mean: \", tensor_int64.mean())\n",
    "\n",
    "# to fix the error, convert the tensor to a floating point tensor\n",
    "tensor_int64.type(torch.float64).mean()"
   ]
  },
  {
   "cell_type": "code",
   "execution_count": null,
   "metadata": {},
   "outputs": [
    {
     "name": "stdout",
     "output_type": "stream",
     "text": [
      "tensor:  tensor([0, 1, 2, 3, 4, 5, 6, 7, 8])\n",
      "tensor.reshape(3, 3):  tensor([[0, 1, 2],\n",
      "        [3, 4, 5],\n",
      "        [6, 7, 8]])\n",
      "z:  tensor([[0, 1, 2],\n",
      "        [3, 4, 5],\n",
      "        [6, 7, 8]])\n",
      "tensor:  tensor([0, 1, 2, 3, 4, 5, 6, 7, 8])\n",
      "z:  tensor([[-1,  1,  2],\n",
      "        [ 3,  4,  5],\n",
      "        [ 6,  7,  8]])\n",
      "tensor:  tensor([-1,  1,  2,  3,  4,  5,  6,  7,  8])\n"
     ]
    }
   ],
   "source": [
    "# reshape the tensor\n",
    "tensor = torch.arange(9)\n",
    "print(\"tensor: \", tensor)\n",
    "print(\"tensor.reshape(3, 3): \", tensor.reshape(3, 3))\n",
    "\n",
    "# change the view\n",
    "z = tensor.view(3, 3)\n",
    "print(\"z: \", z)\n",
    "print(\"tensor: \", tensor)\n",
    "\n",
    "# z and tensor share the same memory\n",
    "z[0, 0] = -1\n",
    "print(\"z: \", z)\n",
    "print(\"tensor: \", tensor)"
   ]
  },
  {
   "cell_type": "code",
   "execution_count": 11,
   "metadata": {},
   "outputs": [
    {
     "name": "stdout",
     "output_type": "stream",
     "text": [
      "x:  tensor([[-1.2129,  0.5628, -0.1500],\n",
      "        [ 0.6058, -0.3978,  0.3751]])\n",
      "y:  tensor([[ 0.0060, -0.2693, -1.6171],\n",
      "        [ 0.5033,  0.0055,  1.5146]])\n"
     ]
    }
   ],
   "source": [
    "# stack\n",
    "x = torch.randn(2, 3)\n",
    "y = torch.randn(2, 3)\n",
    "print(\"x: \", x)\n",
    "print(\"y: \", y)"
   ]
  },
  {
   "cell_type": "code",
   "execution_count": null,
   "metadata": {},
   "outputs": [
    {
     "name": "stdout",
     "output_type": "stream",
     "text": [
      "tensor([[[-1.2129,  0.5628, -0.1500],\n",
      "         [ 0.6058, -0.3978,  0.3751]],\n",
      "\n",
      "        [[ 0.0060, -0.2693, -1.6171],\n",
      "         [ 0.5033,  0.0055,  1.5146]]])\n",
      "tensor([[[-1.2129,  0.5628, -0.1500],\n",
      "         [ 0.0060, -0.2693, -1.6171]],\n",
      "\n",
      "        [[ 0.6058, -0.3978,  0.3751],\n",
      "         [ 0.5033,  0.0055,  1.5146]]])\n",
      "tensor([[[-1.2129,  0.0060],\n",
      "         [ 0.5628, -0.2693],\n",
      "         [-0.1500, -1.6171]],\n",
      "\n",
      "        [[ 0.6058,  0.5033],\n",
      "         [-0.3978,  0.0055],\n",
      "         [ 0.3751,  1.5146]]])\n",
      "tensor([[[-1.2129,  0.0060],\n",
      "         [ 0.5628, -0.2693],\n",
      "         [-0.1500, -1.6171]],\n",
      "\n",
      "        [[ 0.6058,  0.5033],\n",
      "         [-0.3978,  0.0055],\n",
      "         [ 0.3751,  1.5146]]])\n",
      "tensor([[[-1.2129,  0.5628, -0.1500],\n",
      "         [ 0.6058, -0.3978,  0.3751]],\n",
      "\n",
      "        [[-1.2129,  0.5628, -0.1500],\n",
      "         [ 0.6058, -0.3978,  0.3751]]])\n"
     ]
    }
   ],
   "source": [
    "# stack along the first dimension\n",
    "print(torch.stack((x, y), dim=0))\n",
    "print(torch.stack([x, y]))\n",
    "\n",
    "# stack along the second dimension\n",
    "print(torch.stack((x, y), dim=1))\n",
    "\n",
    "# stack along the third dimension\n",
    "print(torch.stack((x, y), dim=2))\n",
    "print(torch.stack((x, y), dim=-1))\n"
   ]
  },
  {
   "cell_type": "code",
   "execution_count": 21,
   "metadata": {},
   "outputs": [
    {
     "name": "stdout",
     "output_type": "stream",
     "text": [
      "x:  tensor([[1, 2, 3, 4, 5, 6, 7, 8, 9]])\n",
      "x.shape:  torch.Size([1, 9])\n",
      "x_squeeze:  tensor([1, 2, 3, 4, 5, 6, 7, 8, 9])\n",
      "x_squeeze.shape:  torch.Size([9])\n",
      "x_unsqueeze:  tensor([[1, 2, 3, 4, 5, 6, 7, 8, 9]])\n",
      "x_unsqueeze.shape:  torch.Size([1, 9])\n",
      "x_unsqueeze:  tensor([[1],\n",
      "        [2],\n",
      "        [3],\n",
      "        [4],\n",
      "        [5],\n",
      "        [6],\n",
      "        [7],\n",
      "        [8],\n",
      "        [9]])\n",
      "x_unsqueeze.shape:  torch.Size([9, 1])\n"
     ]
    }
   ],
   "source": [
    "# squeeze and unsqueeze\n",
    "x = torch.arange(start=1, end=10, step=1).view(1,9)\n",
    "print(\"x: \", x)\n",
    "print(\"x.shape: \", x.shape)\n",
    "\n",
    "# squeeze the tensor\n",
    "x_squeeze = torch.squeeze(x, dim=0)\n",
    "print(\"x_squeeze: \", x_squeeze)\n",
    "print(\"x_squeeze.shape: \", x_squeeze.shape)\n",
    "\n",
    "# unsqueeze the tensor\n",
    "x_unsqueeze = torch.unsqueeze(x_squeeze, dim=0)\n",
    "print(\"x_unsqueeze: \", x_unsqueeze)\n",
    "print(\"x_unsqueeze.shape: \", x_unsqueeze.shape)\n",
    "\n",
    "x_unsqueeze = x_squeeze.unsqueeze(dim=1)\n",
    "print(\"x_unsqueeze: \", x_unsqueeze)\n",
    "print(\"x_unsqueeze.shape: \", x_unsqueeze.shape)"
   ]
  },
  {
   "cell_type": "code",
   "execution_count": 33,
   "metadata": {},
   "outputs": [
    {
     "name": "stdout",
     "output_type": "stream",
     "text": [
      "x.shape:  torch.Size([2, 3, 4])\n",
      "x_permute.shape:  torch.Size([3, 4, 2])\n",
      "x_permute[0, 0, 0]:  tensor(-1)\n",
      "x[0, 0, 0]:  tensor(-1)\n"
     ]
    }
   ],
   "source": [
    "# permute\n",
    "x = torch.arange(24).view(2, 3, 4)\n",
    "# print(\"x: \", x)\n",
    "print(\"x.shape: \", x.shape)\n",
    "\n",
    "# permute the tensor\n",
    "x_permute = x.permute(1, 2, 0)\n",
    "# print(\"x_permute: \", x_permute)\n",
    "print(\"x_permute.shape: \", x_permute.shape)\n",
    "\n",
    "# permuted tensor shares the same memory with the original tensor\n",
    "x_permute[0, 0, 0] = -1\n",
    "print(\"x_permute[0, 0, 0]: \", x_permute[0, 0, 0])\n",
    "print(\"x[0, 0, 0]: \", x[0, 0, 0])"
   ]
  },
  {
   "cell_type": "code",
   "execution_count": 38,
   "metadata": {},
   "outputs": [
    {
     "name": "stdout",
     "output_type": "stream",
     "text": [
      "x:  tensor([[[ 0,  1,  2,  3],\n",
      "         [ 4,  5,  6,  7],\n",
      "         [ 8,  9, 10, 11]]])\n",
      "x[0]:  tensor([[ 0,  1,  2,  3],\n",
      "        [ 4,  5,  6,  7],\n",
      "        [ 8,  9, 10, 11]])\n",
      "x[0][1]:  tensor([4, 5, 6, 7])\n",
      "x[0][1][2]:  tensor(6)\n",
      "get the element 9:  tensor(9)\n",
      "Index on x to return 5:  tensor(5)\n",
      "Index on x to return [1, 5, 9]:  tensor([1, 5, 9])\n"
     ]
    }
   ],
   "source": [
    "# indexing\n",
    "x = torch.arange(12).view(1, 3, 4)\n",
    "print(\"x: \", x)\n",
    "\n",
    "# index the outermost bracket\n",
    "print(\"x[0]: \", x[0])\n",
    "\n",
    "# index the middle bracket\n",
    "print(\"x[0][1]: \", x[0][1])\n",
    "\n",
    "# index the innermost bracket\n",
    "print(\"x[0][1][2]: \", x[0][1][2])\n",
    "\n",
    "# index the element 9\n",
    "print(\"get the element 9: \", x[0][2][1])\n",
    "\n",
    "## Challenge\n",
    "# index on x to return 5\n",
    "print(\"Index on x to return 5: \", x[0, 1, 1])\n",
    "\n",
    "# index on x to return [1, 5, 9]\n",
    "print(\"Index on x to return [1, 5, 9]: \", x[0, :, 1])"
   ]
  },
  {
   "cell_type": "markdown",
   "metadata": {},
   "source": [
    "## Runnig tensors and PyTorch objects on GPUs"
   ]
  },
  {
   "cell_type": "code",
   "execution_count": 5,
   "metadata": {},
   "outputs": [
    {
     "name": "stdout",
     "output_type": "stream",
     "text": [
      "Is CUDA available:  True\n",
      "Device:  cuda\n",
      "Number of GPUs:  1\n"
     ]
    }
   ],
   "source": [
    "# check for GPU access with PyTorch\n",
    "import torch\n",
    "print(\"Is CUDA available: \", torch.cuda.is_available())\n",
    "\n",
    "# device agnostic code\n",
    "if torch.cuda.is_available():\n",
    "    device = torch.device(\"cuda\")\n",
    "elif torch.backends.mps.is_available():\n",
    "    device = torch.device(\"mps\")\n",
    "else:\n",
    "    device = torch.device(\"cpu\")\n",
    "\n",
    "print(\"Device: \", device)\n",
    "\n",
    "# count the number of GPUs\n",
    "print(\"Number of GPUs: \", torch.cuda.device_count())"
   ]
  },
  {
   "cell_type": "markdown",
   "metadata": {},
   "source": [
    "### Put tensors on GPUs"
   ]
  },
  {
   "cell_type": "code",
   "execution_count": 4,
   "metadata": {},
   "outputs": [
    {
     "name": "stdout",
     "output_type": "stream",
     "text": [
      "tensor_rand:  tensor([[0.6117, 0.1904, 0.3525],\n",
      "        [0.5000, 0.9904, 0.1421]])\n",
      "tensor_rand.device:  cpu\n",
      "tensor_rand.device:  cuda:0\n"
     ]
    }
   ],
   "source": [
    "# create a random tensor\n",
    "tensor_rand = torch.rand(2,3)\n",
    "print(\"tensor_rand: \", tensor_rand)\n",
    "print(\"tensor_rand.device: \", tensor_rand.device)\n",
    "\n",
    "# move the tensor to the GPU\n",
    "tensor_rand = tensor_rand.to(device)\n",
    "print(\"tensor_rand.device: \", tensor_rand.device)"
   ]
  },
  {
   "cell_type": "markdown",
   "metadata": {},
   "source": [
    "### Numpy is unable to run on GPU"
   ]
  },
  {
   "cell_type": "code",
   "execution_count": null,
   "metadata": {},
   "outputs": [
    {
     "ename": "TypeError",
     "evalue": "can't convert cuda:0 device type tensor to numpy. Use Tensor.cpu() to copy the tensor to host memory first.",
     "output_type": "error",
     "traceback": [
      "\u001b[0;31m---------------------------------------------------------------------------\u001b[0m",
      "\u001b[0;31mTypeError\u001b[0m                                 Traceback (most recent call last)",
      "Cell \u001b[0;32mIn[6], line 2\u001b[0m\n\u001b[1;32m      1\u001b[0m \u001b[38;5;66;03m# convert the tensor to a numpy array\u001b[39;00m\n\u001b[0;32m----> 2\u001b[0m numpy_rand \u001b[38;5;241m=\u001b[39m \u001b[43mtensor_rand\u001b[49m\u001b[38;5;241;43m.\u001b[39;49m\u001b[43mnumpy\u001b[49m\u001b[43m(\u001b[49m\u001b[43m)\u001b[49m\n",
      "\u001b[0;31mTypeError\u001b[0m: can't convert cuda:0 device type tensor to numpy. Use Tensor.cpu() to copy the tensor to host memory first."
     ]
    }
   ],
   "source": [
    "# convert the tensor to a numpy array\n",
    "# leave the error here on purpose\n",
    "numpy_rand = tensor_rand.numpy()"
   ]
  },
  {
   "cell_type": "code",
   "execution_count": 7,
   "metadata": {},
   "outputs": [],
   "source": [
    "# numpy can not run on the GPU\n",
    "# move the tensor back to the CPU\n",
    "numpy_rand = tensor_rand.cpu().numpy()"
   ]
  },
  {
   "cell_type": "markdown",
   "metadata": {},
   "source": [
    "## Exercises\n",
    "- Create a random tensor with shape (7, 7).\n",
    "- Perform a matrix multiplication on the tensor from previous step with another random tensor with shape (1, 7) (hint: you may have to transpose the second tensor).\n",
    "- Set the random seed to 0 and do exercises 2 & 3 over again.\n",
    "- Speaking of random seeds, we saw how to set it with torch.manual_seed() but is there a GPU equivalent? (hint: you'll need to look into the documentation for torch.cuda for this one). If there is, set the GPU random seed to 1234.\n",
    "- Create two random tensors of shape (2, 3) and send them both to the GPU (you'll need access to a GPU for this). Set torch.manual_seed(1234) when creating the tensors (this doesn't have to be the GPU random seed).\n",
    "- Perform a matrix multiplication on the tensors you created in prvious step (again, you may have to adjust the shapes of one of the tensors).\n",
    "- Find the maximum and minimum values of the output of previous step.\n",
    "- Find the maximum and minimum index values of the output of previous step.\n",
    "- Make a random tensor with shape (1, 1, 1, 10) and then create a new tensor with all the 1 dimensions removed to be left with a tensor of shape (10). Set the seed to 7 when you create it and print out the first tensor and it's shape as well as the second tensor and it's shape."
   ]
  },
  {
   "cell_type": "code",
   "execution_count": 47,
   "metadata": {},
   "outputs": [
    {
     "name": "stdout",
     "output_type": "stream",
     "text": [
      "tensor([[0.8823, 0.9150, 0.3829, 0.9593, 0.3904, 0.6009, 0.2566],\n",
      "        [0.7936, 0.9408, 0.1332, 0.9346, 0.5936, 0.8694, 0.5677],\n",
      "        [0.7411, 0.4294, 0.8854, 0.5739, 0.2666, 0.6274, 0.2696],\n",
      "        [0.4414, 0.2969, 0.8317, 0.1053, 0.2695, 0.3588, 0.1994],\n",
      "        [0.5472, 0.0062, 0.9516, 0.0753, 0.8860, 0.5832, 0.3376],\n",
      "        [0.8090, 0.5779, 0.9040, 0.5547, 0.3423, 0.6343, 0.3644],\n",
      "        [0.7104, 0.9464, 0.7890, 0.2814, 0.7886, 0.5895, 0.7539]])\n",
      "tensor([[0.8823, 0.9150, 0.3829, 0.9593, 0.3904, 0.6009, 0.2566]])\n",
      "tensor([[0.8823],\n",
      "        [0.9150],\n",
      "        [0.3829],\n",
      "        [0.9593],\n",
      "        [0.3904],\n",
      "        [0.6009],\n",
      "        [0.2566]])\n",
      "CPU times: user 2.36 ms, sys: 867 μs, total: 3.23 ms\n",
      "Wall time: 2.71 ms\n"
     ]
    }
   ],
   "source": [
    "%%time\n",
    "# a random tensor with shape (7, 7)\n",
    "import torch\n",
    "import random\n",
    "\n",
    "# set the seed for reproducibility\n",
    "RANDOM_SEED = 42\n",
    "\n",
    "# set the seed for generating random numbers\n",
    "# torch.cuda.manual_seed(RANDOM_SEED)\n",
    "torch.manual_seed(RANDOM_SEED)\n",
    "x = torch.rand(7, 7)\n",
    "print(x)\n",
    "\n",
    "# set the seed for generating random numbers\n",
    "torch.manual_seed(RANDOM_SEED)\n",
    "y = torch.rand(1, 7)\n",
    "print(y)\n",
    "\n",
    "# transpose the tensor\n",
    "y_T = y.T\n",
    "print(y_T)\n"
   ]
  },
  {
   "cell_type": "code",
   "execution_count": 54,
   "metadata": {},
   "outputs": [
    {
     "name": "stdout",
     "output_type": "stream",
     "text": [
      "matrix multiplication: tensor([[3.2618],\n",
      "        [3.4084],\n",
      "        [2.4866],\n",
      "        [1.4525],\n",
      "        [1.7079],\n",
      "        [2.7291],\n",
      "        [2.9204]])\n",
      "CPU times: user 1.57 ms, sys: 938 μs, total: 2.51 ms\n",
      "Wall time: 1.7 ms\n"
     ]
    }
   ],
   "source": [
    "%%time\n",
    "\n",
    "# multiply the two tensors\n",
    "z = torch.matmul(x, y_T)\n",
    "print(\"matrix multiplication:\", z)\n"
   ]
  },
  {
   "cell_type": "code",
   "execution_count": 35,
   "metadata": {},
   "outputs": [],
   "source": [
    "# put the tensor on the GPU\n",
    "x = x.to(device)\n",
    "y_T = y_T.to(device)"
   ]
  },
  {
   "cell_type": "code",
   "execution_count": 46,
   "metadata": {},
   "outputs": [
    {
     "name": "stdout",
     "output_type": "stream",
     "text": [
      "matrix multiplication on the GPU: tensor([[3.2618],\n",
      "        [3.4084],\n",
      "        [2.4866],\n",
      "        [1.4525],\n",
      "        [1.7079],\n",
      "        [2.7291],\n",
      "        [2.9204]], device='cuda:0')\n",
      "CPU times: user 2.75 ms, sys: 141 μs, total: 2.89 ms\n",
      "Wall time: 2.14 ms\n"
     ]
    }
   ],
   "source": [
    "%%time\n",
    "\n",
    "# multiply the two tensors\n",
    "z = torch.matmul(x, y_T)\n",
    "print(\"matrix multiplication on the GPU:\", z)"
   ]
  },
  {
   "cell_type": "code",
   "execution_count": 56,
   "metadata": {},
   "outputs": [
    {
     "name": "stdout",
     "output_type": "stream",
     "text": [
      "min:  tensor(1.4525)\n",
      "max:  tensor(3.4084)\n",
      "argmin:  tensor(3)\n",
      "argmax:  tensor(1)\n"
     ]
    }
   ],
   "source": [
    "# the min and max values of the tensor\n",
    "print(\"min: \", z.min())\n",
    "print(\"max: \", z.max())\n",
    "\n",
    "# their indices\n",
    "print(\"argmin: \", z.argmin())\n",
    "print(\"argmax: \", z.argmax())"
   ]
  },
  {
   "cell_type": "code",
   "execution_count": 67,
   "metadata": {},
   "outputs": [
    {
     "name": "stdout",
     "output_type": "stream",
     "text": [
      "x:  tensor([[[[0.5349, 0.1988, 0.6592, 0.6569, 0.2328, 0.4251, 0.2071, 0.6297,\n",
      "           0.3653, 0.8513]]]])\n",
      "x.shape:  torch.Size([1, 1, 1, 10])\n",
      "x_squeeze:  tensor([0.5349, 0.1988, 0.6592, 0.6569, 0.2328, 0.4251, 0.2071, 0.6297, 0.3653,\n",
      "        0.8513])\n",
      "x_squeeze.shape:  torch.Size([10])\n"
     ]
    }
   ],
   "source": [
    "# Make a random tensor with shape (1, 1, 1, 10) and then create a new tensor with all the 1 dimensions removed\n",
    "# to be left with a tensor of shape (10). Set the seed to 7 when you create it and print out the first tensor\n",
    "# and it's shape as well as the second tensor and it's shape.\n",
    "\n",
    "# set the seed for generating random tensors\n",
    "RANDOM_SEED = 7\n",
    "torch.manual_seed(7)\n",
    "x = torch.rand(1, 1, 1, 10)\n",
    "print(\"x: \", x)\n",
    "print(\"x.shape: \", x.shape)\n",
    "\n",
    "# squeeze the tensor\n",
    "x_squeeze = x.squeeze()\n",
    "print(\"x_squeeze: \", x_squeeze)\n",
    "print(\"x_squeeze.shape: \", x_squeeze.shape)\n"
   ]
  }
 ],
 "metadata": {
  "kernelspec": {
   "display_name": ".venv",
   "language": "python",
   "name": "python3"
  },
  "language_info": {
   "codemirror_mode": {
    "name": "ipython",
    "version": 3
   },
   "file_extension": ".py",
   "mimetype": "text/x-python",
   "name": "python",
   "nbconvert_exporter": "python",
   "pygments_lexer": "ipython3",
   "version": "3.12.3"
  }
 },
 "nbformat": 4,
 "nbformat_minor": 2
}
