{
 "cells": [
  {
   "cell_type": "markdown",
   "metadata": {},
   "source": [
    "## Import Pytorch\n",
    "Check if Pytorch is available in the environment."
   ]
  },
  {
   "cell_type": "code",
   "execution_count": 1,
   "metadata": {},
   "outputs": [
    {
     "name": "stdout",
     "output_type": "stream",
     "text": [
      "tensor([[0.0553, 0.7452, 0.6264],\n",
      "        [0.1143, 0.9915, 0.6926],\n",
      "        [0.3595, 0.9248, 0.4203],\n",
      "        [0.5221, 0.8430, 0.2699],\n",
      "        [0.7406, 0.1395, 0.6808]])\n"
     ]
    }
   ],
   "source": [
    "import torch\n",
    "x = torch.rand(5, 3)\n",
    "print(x)"
   ]
  },
  {
   "cell_type": "code",
   "execution_count": 2,
   "metadata": {},
   "outputs": [
    {
     "data": {
      "text/plain": [
       "'2.6.0.dev20241119'"
      ]
     },
     "execution_count": 2,
     "metadata": {},
     "output_type": "execute_result"
    }
   ],
   "source": [
    "torch.__version__"
   ]
  },
  {
   "cell_type": "markdown",
   "metadata": {},
   "source": [
    "## Tensor\n",
    "Tensors are the fundamental building block of machine learning.\n",
    "Their job is to represent data in a numerical way.\n",
    "\n",
    "### Key learning points\n",
    "- [Data types](https://pytorch.org/docs/stable/tensors.html#data-types)\n",
    "- Initialize tensor of different shapes\n",
    "- Manipulate tensor"
   ]
  },
  {
   "cell_type": "markdown",
   "metadata": {},
   "source": [
    "#### Different Shapes of Tensor\n",
    "\n",
    "| Name   | What is it?                                                                 | Number of dimensions                                                                 | Lower or upper (usually/example)                                                                 |\n",
    "|--------|-----------------------------------------------------------------------------|--------------------------------------------------------------------------------------|---------------------------------------------------------------------------------------------------|\n",
    "| scalar | a single number                                                             | 0                                                                                    | Lower (a)                                                                                        |\n",
    "| vector | a number with direction (e.g. wind speed with direction) but can also have many other numbers | 1                                                                                    | Lower (y)                                                                                        |\n",
    "| matrix | a 2-dimensional array of numbers                                            | 2                                                                                    | Upper (Q)                                                                                        |\n",
    "| tensor | an n-dimensional array of numbers                                           | can be any number, a 0-dimension tensor is a scalar, a 1-dimension tensor is a vector | Upper (X)                                                                                        |"
   ]
  },
  {
   "cell_type": "code",
   "execution_count": 12,
   "metadata": {},
   "outputs": [
    {
     "name": "stdout",
     "output_type": "stream",
     "text": [
      "scalar: tensor(1.)\n",
      "vector:  tensor([1., 2., 3., 4.])\n",
      "matrix: tensor([[1., 2.],\n",
      "        [3., 4.]])\n",
      "tensor: tensor([[[1., 2.],\n",
      "         [3., 4.]],\n",
      "\n",
      "        [[5., 6.],\n",
      "         [7., 8.]]])\n",
      "random tensor: tensor([[0.0457, 0.0278, 0.9037, 0.8940],\n",
      "        [0.3370, 0.8858, 0.8089, 0.8165],\n",
      "        [0.3289, 0.6096, 0.8402, 0.0332]])\n",
      "all zeros tensor: tensor([[0., 0., 0., 0.],\n",
      "        [0., 0., 0., 0.],\n",
      "        [0., 0., 0., 0.]])\n",
      "all ones tensor: tensor([[1., 1., 1., 1.],\n",
      "        [1., 1., 1., 1.],\n",
      "        [1., 1., 1., 1.]])\n"
     ]
    }
   ],
   "source": [
    "# Create a tensor\n",
    "# scalar\n",
    "a = torch.tensor(1.0)\n",
    "\n",
    "# vector\n",
    "y = torch.tensor([1.0, 2.0, 3.0, 4.0])\n",
    "\n",
    "# matrix\n",
    "Q = torch.tensor([[1.0, 2.0], [3.0, 4.0]])\n",
    "\n",
    "# N-dimensional tensor\n",
    "X = torch.tensor([[[1.0, 2.0], [3.0, 4.0]], [[5.0, 6.0], [7.0, 8.0]]])\n",
    "\n",
    "# random tensor\n",
    "R = torch.rand(size=(3, 4))\n",
    "\n",
    "# all zeros tensor\n",
    "Z = torch.zeros(size=(3, 4))\n",
    "\n",
    "# all ones tensor\n",
    "O = torch.ones(size=(3, 4))\n",
    "\n",
    "# print the tensor\n",
    "print(\"scalar:\", a)\n",
    "print(\"vector: \", y)\n",
    "print(\"matrix:\", Q)\n",
    "print(\"tensor:\", X)\n",
    "print(\"random tensor:\", R)\n",
    "print(\"all zeros tensor:\", Z)\n",
    "print(\"all ones tensor:\", O)"
   ]
  },
  {
   "cell_type": "markdown",
   "metadata": {},
   "source": [
    "#### Get the Structure of Tensor\n",
    "- `.ndim`\n",
    "- `.item`\n",
    "- `.shape`"
   ]
  },
  {
   "cell_type": "code",
   "execution_count": 10,
   "metadata": {},
   "outputs": [
    {
     "name": "stdout",
     "output_type": "stream",
     "text": [
      "scalar: 0\n",
      "vector: 1\n",
      "matrix: 2\n",
      "tensor: 3\n"
     ]
    }
   ],
   "source": [
    "# dimensions of the tensor\n",
    "print(\"scalar:\", a.ndim)\n",
    "print(\"vector:\", y.ndim)\n",
    "print(\"matrix:\", Q.ndim)\n",
    "print(\"tensor:\", X.ndim)"
   ]
  }
 ],
 "metadata": {
  "kernelspec": {
   "display_name": ".venv",
   "language": "python",
   "name": "python3"
  },
  "language_info": {
   "codemirror_mode": {
    "name": "ipython",
    "version": 3
   },
   "file_extension": ".py",
   "mimetype": "text/x-python",
   "name": "python",
   "nbconvert_exporter": "python",
   "pygments_lexer": "ipython3",
   "version": "3.10.5"
  }
 },
 "nbformat": 4,
 "nbformat_minor": 2
}
